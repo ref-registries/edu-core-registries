{
 "cells": [
  {
   "cell_type": "code",
   "execution_count": 515,
   "id": "3f0dd619",
   "metadata": {},
   "outputs": [],
   "source": [
    "import requests\n",
    "import random\n",
    "import json"
   ]
  },
  {
   "cell_type": "code",
   "execution_count": null,
   "id": "47d42ec6",
   "metadata": {},
   "outputs": [],
   "source": []
  },
  {
   "cell_type": "code",
   "execution_count": 516,
   "id": "22c16507",
   "metadata": {},
   "outputs": [],
   "source": [
    "base_url = \"http://localhost:8081\""
   ]
  },
  {
   "cell_type": "code",
   "execution_count": 517,
   "id": "4c0e4ef1",
   "metadata": {},
   "outputs": [],
   "source": [
    "resp = requests.get(base_url)\n",
    "assert resp.status_code == 404\n",
    "assert resp.json()[\"status\"] == 404\n",
    "assert resp.json()[\"error\"] == \"Not Found\""
   ]
  },
  {
   "cell_type": "code",
   "execution_count": 518,
   "id": "27da0f32",
   "metadata": {},
   "outputs": [],
   "source": [
    "resp = requests.get(\"%s/api/docs/swagger.json\"%base_url)\n",
    "assert resp.status_code == 200\n",
    "assert resp.json()[\"swagger\"] == \"2.0\"\n",
    "assert resp.json()[\"paths\"] != None"
   ]
  },
  {
   "cell_type": "code",
   "execution_count": 519,
   "id": "0edbbada",
   "metadata": {},
   "outputs": [
    {
     "data": {
      "text/plain": [
       "dict_keys(['/api/v1/Institute/{entityId}', '/api/docs/Institute.json', '/api/v1/Institute/invite', '/api/v1/Institute/sign', '/api/v1/Institute/search', '/api/v1/Institute', '/api/v1/Institute/{entityId}/{property}/{propertyId}', '/api/v1/Institute/{entityId}/{property}', '/api/v1/Institute/{entityId}/{property}/{propertyId}/send', '/api/v1/Teacher/{entityId}', '/api/docs/Teacher.json', '/api/v1/Teacher/invite', '/api/v1/Teacher/sign', '/api/v1/Teacher/search', '/api/v1/Teacher', '/api/v1/Teacher/{entityId}/{property}/{propertyId}', '/api/v1/Teacher/{entityId}/{property}', '/api/v1/Teacher/{entityId}/{property}/{propertyId}/send', '/api/v1/BaseAttestationField/{entityId}', '/api/docs/BaseAttestationField.json', '/api/v1/BaseAttestationField/invite', '/api/v1/BaseAttestationField/sign', '/api/v1/BaseAttestationField/search', '/api/v1/BaseAttestationField', '/api/v1/BaseAttestationField/{entityId}/{property}/{propertyId}', '/api/v1/BaseAttestationField/{entityId}/{property}', '/api/v1/BaseAttestationField/{entityId}/{property}/{propertyId}/send', '/api/v1/Student/{entityId}', '/api/docs/Student.json', '/api/v1/Student/invite', '/api/v1/Student/sign', '/api/v1/Student/search', '/api/v1/Student', '/api/v1/Student/{entityId}/{property}/{propertyId}', '/api/v1/Student/{entityId}/{property}', '/api/v1/Student/{entityId}/{property}/{propertyId}/send', '/api/v1/Common/{entityId}', '/api/docs/Common.json', '/api/v1/Common/invite', '/api/v1/Common/sign', '/api/v1/Common/search', '/api/v1/Common', '/api/v1/Common/{entityId}/{property}/{propertyId}', '/api/v1/Common/{entityId}/{property}', '/api/v1/Common/{entityId}/{property}/{propertyId}/send'])"
      ]
     },
     "execution_count": 519,
     "metadata": {},
     "output_type": "execute_result"
    }
   ],
   "source": [
    "swaggerJson = resp.json()\n",
    "swaggerJson[\"paths\"].keys()"
   ]
  },
  {
   "cell_type": "code",
   "execution_count": 520,
   "id": "96d0bcfe",
   "metadata": {},
   "outputs": [
    {
     "data": {
      "text/plain": [
       "'/api/docs/Institute.json'"
      ]
     },
     "execution_count": 520,
     "metadata": {},
     "output_type": "execute_result"
    }
   ],
   "source": [
    "jsonUrl = [f for f in swaggerJson[\"paths\"].keys() if \".json\" in f][0]\n",
    "jsonUrl"
   ]
  },
  {
   "cell_type": "code",
   "execution_count": 521,
   "id": "180d3352",
   "metadata": {},
   "outputs": [],
   "source": [
    "resp = requests.get(\"%s%s\"%(base_url, jsonUrl))\n",
    "assert resp.status_code == 200"
   ]
  },
  {
   "cell_type": "code",
   "execution_count": 522,
   "id": "9825fec2",
   "metadata": {},
   "outputs": [
    {
     "data": {
      "text/plain": [
       "{'Institute': {'$id': '#/properties/Institute',\n",
       "  'type': 'object',\n",
       "  'title': 'The Institute Schema',\n",
       "  'required': [],\n",
       "  'properties': {'instituteName': {'$id': '#/properties/instituteName',\n",
       "    'type': 'string',\n",
       "    'title': 'Institute Name'},\n",
       "   'address': {'type': 'object',\n",
       "    'required': [],\n",
       "    'properties': {'plot': {'type': 'string', 'title': 'Plot'},\n",
       "     'street': {'type': 'string', 'title': 'Street'},\n",
       "     'landmark': {'type': 'string', 'title': 'Landmark'},\n",
       "     'locality': {'type': 'string', 'title': 'Locality'},\n",
       "     'state': {'type': 'string', 'title': 'State'},\n",
       "     'district': {'type': 'string', 'title': 'District'},\n",
       "     'village': {'type': 'string', 'title': 'Village/Town/City'},\n",
       "     'pincode': {'type': 'string', 'title': 'Pincode'}}},\n",
       "   'establishmentYear': {'$id': '#/properties/establishmentYear',\n",
       "    'type': 'string',\n",
       "    'title': 'Year of establishment of institute'},\n",
       "   'gstnId': {'$id': '#/properties/gstnId',\n",
       "    'type': 'string',\n",
       "    'title': 'GSTN ID'},\n",
       "   'contactNumber': {'$id': '#/properties/contactNumber',\n",
       "    'type': 'string',\n",
       "    'title': 'Landline / Mobile'},\n",
       "   'email': {'$id': '#/properties/email',\n",
       "    'type': 'string',\n",
       "    'format': 'email',\n",
       "    'title': 'Email'},\n",
       "   'website': {'$id': '#/properties/website',\n",
       "    'type': 'string',\n",
       "    'format': 'uri',\n",
       "    'title': 'Website'},\n",
       "   'category': {'$id': '#/properties/category',\n",
       "    'type': 'string',\n",
       "    'title': 'Institute Category (Primary/Secondary etc)',\n",
       "    'enum': ['Primary', 'Secondary']},\n",
       "   'schoolType': {'$id': '#/properties/schoolType',\n",
       "    'type': 'string',\n",
       "    'title': 'School Type ',\n",
       "    'enum': ['Boys', 'Girls', 'Co-ed']},\n",
       "   'instituteManagement': {'$id': '#/properties/instituteManagement',\n",
       "    'type': 'string',\n",
       "    'title': 'Management of institute'},\n",
       "   'committee': {'$id': '#/properties/instituteManagement',\n",
       "    'type': 'string',\n",
       "    'title': 'Name of Trust / Society / Managing Committee'},\n",
       "   'adminName': {'$id': '#/properties/adminName',\n",
       "    'type': 'string',\n",
       "    'title': 'Principal / Dean / Head - Full Name'},\n",
       "   'adminEmail': {'$id': '#/properties/adminEmail',\n",
       "    'type': 'string',\n",
       "    'title': 'Principal / Dean / Head - Email'},\n",
       "   'adminMobile': {'$id': '#/properties/adminMobile',\n",
       "    'type': 'string',\n",
       "    'title': 'Principal / Dean / Head - Mobile'},\n",
       "   'affiliation': {'type': 'array',\n",
       "    'items': {'type': 'object',\n",
       "     'properties': {'medium': {'type': 'string',\n",
       "       'title': 'Medium of Education'},\n",
       "      'board': {'type': 'string', 'title': 'Affiliations Board'},\n",
       "      'affiliationNumber': {'type': 'string', 'title': 'Affiliation Number'},\n",
       "      'grantYear': {'type': 'string', 'title': 'Grant year'},\n",
       "      'expiryYear': {'type': 'string', 'title': 'Expiry Year'},\n",
       "      'classes': {'type': 'array',\n",
       "       'items': {'type': 'string'},\n",
       "       'title': 'Classes / Grades'}}},\n",
       "    'title': 'Affiliation'}}}}"
      ]
     },
     "execution_count": 522,
     "metadata": {},
     "output_type": "execute_result"
    }
   ],
   "source": [
    "resp.json()"
   ]
  },
  {
   "cell_type": "code",
   "execution_count": 523,
   "id": "50e5149a",
   "metadata": {},
   "outputs": [
    {
     "data": {
      "text/plain": [
       "['/api/v1/Institute/invite',\n",
       " '/api/v1/Teacher/invite',\n",
       " '/api/v1/BaseAttestationField/invite',\n",
       " '/api/v1/Student/invite',\n",
       " '/api/v1/Common/invite']"
      ]
     },
     "execution_count": 523,
     "metadata": {},
     "output_type": "execute_result"
    }
   ],
   "source": [
    "[f for f in swaggerJson[\"paths\"].keys() if \"/invite\" in f]"
   ]
  },
  {
   "cell_type": "code",
   "execution_count": 524,
   "id": "8bd262de",
   "metadata": {},
   "outputs": [
    {
     "data": {
      "text/plain": [
       "'/api/v1/Teacher/invite'"
      ]
     },
     "execution_count": 524,
     "metadata": {},
     "output_type": "execute_result"
    }
   ],
   "source": [
    "inviteUrl = [f for f in swaggerJson[\"paths\"].keys() if \"/invite\" in f][1]\n",
    "inviteUrl"
   ]
  },
  {
   "cell_type": "code",
   "execution_count": 525,
   "id": "9ad5283a",
   "metadata": {},
   "outputs": [],
   "source": [
    "def entity_for(userId):\n",
    "    return  {\"personalDetails\":{\n",
    "         \"userName\":userId,\n",
    "         \"dob\":\"2020-12-12\",\n",
    "     },\n",
    "      \"IdentityDetails\":{\"type\":\"id\",\"value\":userId}, \n",
    "      \"ContactDetails\":{ \"mobile\":\"%s\"%userId,\"email\":\"%s@example.com\"%userId,\n",
    "                       \"address\":{\"street\":\"abc\",\"state\":\"Karnataka\",\"pincode\":\"560001\"}}\n",
    "     }"
   ]
  },
  {
   "cell_type": "code",
   "execution_count": 526,
   "id": "547ea7ab",
   "metadata": {},
   "outputs": [
    {
     "data": {
      "text/plain": [
       "'{\"personalDetails\": {\"userName\": 12, \"dob\": \"2020-12-12\"}, \"IdentityDetails\": {\"type\": \"id\", \"value\": 12}, \"ContactDetails\": {\"mobile\": \"12\", \"email\": \"12@example.com\", \"address\": {\"street\": \"abc\", \"state\": \"Karnataka\", \"pincode\": \"560001\"}}}'"
      ]
     },
     "execution_count": 526,
     "metadata": {},
     "output_type": "execute_result"
    }
   ],
   "source": [
    "userId=12\n",
    "json.dumps(entity_for(userId))"
   ]
  },
  {
   "cell_type": "markdown",
   "id": "749a18fc",
   "metadata": {},
   "source": [
    "# invite"
   ]
  },
  {
   "cell_type": "code",
   "execution_count": 527,
   "id": "0fbcad28",
   "metadata": {},
   "outputs": [
    {
     "name": "stdout",
     "output_type": "stream",
     "text": [
      "b'{\"id\":\"sunbird-rc.registry.invite\",\"ver\":\"1.0\",\"ets\":1644163757356,\"params\":{\"resmsgid\":\"\",\"msgid\":\"76eda9e2-23d5-448a-820e-3a89e62ab45a\",\"err\":\"\",\"status\":\"SUCCESSFUL\",\"errmsg\":\"\"},\"responseCode\":\"OK\",\"result\":{\"Teacher\":{\"osid\":\"1-f5115e92-9ceb-4898-a08a-44d6e9c76897\"}}}'\n",
      "{'id': 'sunbird-rc.registry.invite', 'ver': '1.0', 'ets': 1644163757356, 'params': {'resmsgid': '', 'msgid': '76eda9e2-23d5-448a-820e-3a89e62ab45a', 'err': '', 'status': 'SUCCESSFUL', 'errmsg': ''}, 'responseCode': 'OK', 'result': {'Teacher': {'osid': '1-f5115e92-9ceb-4898-a08a-44d6e9c76897'}}}\n"
     ]
    }
   ],
   "source": [
    "userId =str(random.randint(1e10,1e11))\n",
    "resp = requests.post(\"%s%s\"%(base_url, inviteUrl), json=entity_for(userId)\n",
    ")\n",
    "print(resp.content)\n",
    "assert resp.status_code == 200\n",
    "print(resp.json())\n",
    "assert(resp.json()[\"id\"]==\"sunbird-rc.registry.invite\")\n",
    "assert resp.json()[\"params\"][\"status\"] == \"SUCCESSFUL\"\n",
    "entity_name=next(iter(resp.json()[\"result\"].keys()))\n",
    "assert \"Teacher\"==entity_name\n",
    "idx = resp.json()[\"result\"][entity_name][\"osid\"]"
   ]
  },
  {
   "cell_type": "code",
   "execution_count": 528,
   "id": "e0096a4c",
   "metadata": {},
   "outputs": [
    {
     "data": {
      "text/plain": [
       "'1-f5115e92-9ceb-4898-a08a-44d6e9c76897'"
      ]
     },
     "execution_count": 528,
     "metadata": {},
     "output_type": "execute_result"
    }
   ],
   "source": [
    "idx"
   ]
  },
  {
   "cell_type": "code",
   "execution_count": 529,
   "id": "a4ff65b9",
   "metadata": {},
   "outputs": [
    {
     "data": {
      "text/plain": [
       "'61532629118'"
      ]
     },
     "execution_count": 529,
     "metadata": {},
     "output_type": "execute_result"
    }
   ],
   "source": [
    "userId"
   ]
  },
  {
   "cell_type": "code",
   "execution_count": null,
   "id": "bdb276a7",
   "metadata": {},
   "outputs": [],
   "source": []
  },
  {
   "cell_type": "code",
   "execution_count": 613,
   "id": "9e5c997a",
   "metadata": {},
   "outputs": [
    {
     "name": "stdout",
     "output_type": "stream",
     "text": [
      "200\n"
     ]
    }
   ],
   "source": [
    "headers = {\n",
    "    'content-type': 'application/x-www-form-urlencoded',\n",
    "}\n",
    "\n",
    "data = {\n",
    "  'client_id': 'registry-frontend',\n",
    "  'username': userId,\n",
    "  'password': 'abcd@123',\n",
    "  'grant_type': 'password'\n",
    "}\n",
    "\n",
    "response = requests.post('http://keycloak:8080/auth/realms/sunbird-rc/protocol/openid-connect/token', headers=headers, data=data)\n",
    "\n",
    "print(response.status_code)\n",
    "token = response.json()[\"access_token\"]\n"
   ]
  },
  {
   "cell_type": "code",
   "execution_count": 614,
   "id": "5162487f",
   "metadata": {},
   "outputs": [
    {
     "data": {
      "text/plain": [
       "'eyJhbGciOiJSUzI1NiIsInR5cCIgOiAiSldUIiwia2lkIiA6ICJaUk4xbE9rdkloSjEzQjdjcEVXQlBIQURER01lZUFHVmUyTkx2QlpLT29vIn0.eyJleHAiOjE2NDQxNzUzNTIsImlhdCI6MTY0NDE3NDc1MiwianRpIjoiNTg3NDAzOTItNTAyMS00OTE5LTlmNmItNjU4OGE4MzNlOTM4IiwiaXNzIjoiaHR0cDovL2tleWNsb2FrOjgwODAvYXV0aC9yZWFsbXMvc3VuYmlyZC1yYyIsImF1ZCI6ImFjY291bnQiLCJzdWIiOiIyYWViNzcwZS00ZTE1LTQ4YzUtOTViNC1hZTRhM2FhMzc2NzUiLCJ0eXAiOiJCZWFyZXIiLCJhenAiOiJyZWdpc3RyeS1mcm9udGVuZCIsInNlc3Npb25fc3RhdGUiOiJkNzRjMDk2Mi01MjM4LTRiYjEtYWVlYi1iZDAzNDhjOGE5NjkiLCJhY3IiOiIxIiwiYWxsb3dlZC1vcmlnaW5zIjpbImh0dHBzOi8vbG9jYWxob3N0OjQyMDIiLCJodHRwOi8vbG9jYWxob3N0OjQyMDIiLCJodHRwczovL2xvY2FsaG9zdDo0MjAwIiwiaHR0cHM6Ly9uZGVhci54aXYuaW4iLCJodHRwOi8vbG9jYWxob3N0OjQyMDAiLCJodHRwOi8vbmRlYXIueGl2LmluIiwiaHR0cDovLzIwLjE5OC42NC4xMjgiXSwicmVhbG1fYWNjZXNzIjp7InJvbGVzIjpbIm9mZmxpbmVfYWNjZXNzIiwidW1hX2F1dGhvcml6YXRpb24iLCJkZWZhdWx0LXJvbGVzLW5kZWFyIl19LCJyZXNvdXJjZV9hY2Nlc3MiOnsiYWNjb3VudCI6eyJyb2xlcyI6WyJtYW5hZ2UtYWNjb3VudCIsIm1hbmFnZS1hY2NvdW50LWxpbmtzIiwidmlldy1wcm9maWxlIl19fSwic2NvcGUiOiJwcm9maWxlIGVtYWlsIiwiZW1haWxfdmVyaWZpZWQiOmZhbHNlLCJwcmVmZXJyZWRfdXNlcm5hbWUiOiI2MTUzMjYyOTExOCIsImVudGl0eSI6WyJUZWFjaGVyIl0sImVtYWlsIjoiNjE1MzI2MjkxMThAZXhhbXBsZS5jb20ifQ.Ni3htjQFcIIEbu68WIWMXYptTI9PJ7IrEDbhluXZmWlH_eKnb5f_vaCiZPfe85yR5ITKYxbHW0gGmcYJFKzhrJqTV2_EJfAFAfwPNEVG2jDeKcLp0-YK-meXD07__1ZHmg50V89aqZXK8-W1iOFhQqC5ZXuEXs46XljBdGgMZYG9um8-zieC8-7DIZi2Yy1p48kuC2VsZ7OCxhTMrNqgFjKkV8qKsXHzFCw7ObKMRWo8BsNVmwlHm0Ionb4aJAtJiY2gkX_SVfXwTPX0DoC6gppHzah7fYK9_tlAPxpOSldIYbUGf4oeU2eCAcjsuzVUloDXO8z35n60NOM0DVLEkg'"
      ]
     },
     "execution_count": 614,
     "metadata": {},
     "output_type": "execute_result"
    }
   ],
   "source": [
    "token\n"
   ]
  },
  {
   "cell_type": "code",
   "execution_count": 569,
   "id": "a398971a",
   "metadata": {},
   "outputs": [
    {
     "name": "stdout",
     "output_type": "stream",
     "text": [
      "200\n"
     ]
    },
    {
     "data": {
      "text/plain": [
       "(200,\n",
       " {'osUpdatedAt': '2022-02-06T16:09:18.987Z',\n",
       "  'ContactDetails': {'osid': '1-30a7cad8-9369-4ba7-bc47-376347fad897',\n",
       "   'osUpdatedAt': '2022-02-06T16:09:18.987Z',\n",
       "   'address': {'osid': '1-5777a40b-4879-4aa6-a3b5-4d4ffef95382',\n",
       "    'pincode': '560001',\n",
       "    'osUpdatedAt': '2022-02-06T16:09:18.987Z',\n",
       "    'osCreatedAt': '2022-02-06T16:09:18.987Z',\n",
       "    'osUpdatedBy': '',\n",
       "    'street': 'abc',\n",
       "    'osCreatedBy': '',\n",
       "    'state': 'Karnataka'},\n",
       "   'osCreatedAt': '2022-02-06T16:09:18.987Z',\n",
       "   'osUpdatedBy': '',\n",
       "   'osCreatedBy': '',\n",
       "   'mobile': '61532629118',\n",
       "   'email': '61532629118@example.com'},\n",
       "  'osCreatedAt': '2022-02-06T16:09:18.987Z',\n",
       "  'osUpdatedBy': '',\n",
       "  'IdentityDetails': {'osid': '1-aa981655-301b-4f95-8207-508a0266dec2',\n",
       "   'osUpdatedAt': '2022-02-06T16:09:18.987Z',\n",
       "   'osCreatedAt': '2022-02-06T16:09:18.987Z',\n",
       "   'osUpdatedBy': '',\n",
       "   'osCreatedBy': '',\n",
       "   'type': 'id',\n",
       "   'value': '61532629118'},\n",
       "  'personalDetails': {'osid': '1-117254f3-ef91-428e-a4cd-486ae6b198f3',\n",
       "   'osUpdatedAt': '2022-02-06T16:09:18.987Z',\n",
       "   'osCreatedAt': '2022-02-06T16:09:18.987Z',\n",
       "   'osUpdatedBy': '',\n",
       "   'dob': '2020-12-12',\n",
       "   'osCreatedBy': '',\n",
       "   'userName': '61532629118'},\n",
       "  'osCreatedBy': '',\n",
       "  'osid': '1-f5115e92-9ceb-4898-a08a-44d6e9c76897',\n",
       "  'osOwner': ['2aeb770e-4e15-48c5-95b4-ae4a3aa37675']})"
      ]
     },
     "execution_count": 569,
     "metadata": {},
     "output_type": "execute_result"
    }
   ],
   "source": [
    "headers = {\n",
    "    'content-type': 'application/json',\n",
    "    'Authorization': 'Bearer %s'%token, \n",
    "}\n",
    "\n",
    "response = requests.get('http://localhost:8081/api/v1/%s/%s'%(entity_name, idx), headers=headers)\n",
    "print(response.status_code)\n",
    "obj = response.json()\n",
    "response.status_code, response.json()"
   ]
  },
  {
   "cell_type": "markdown",
   "id": "e164092c",
   "metadata": {},
   "source": [
    "## update name and experience"
   ]
  },
  {
   "cell_type": "code",
   "execution_count": 570,
   "id": "b31e0286",
   "metadata": {},
   "outputs": [
    {
     "name": "stdout",
     "output_type": "stream",
     "text": [
      "{\"ContactDetails\":{\"name\": \"test name 61532629118\"}, \"experience\":[{\"institute\":\"Some other school\"}]}\n"
     ]
    }
   ],
   "source": [
    "headers = {\n",
    "    'content-type': 'application/json',\n",
    "    'authorization': 'bearer %s'%token,\n",
    "}\n",
    "\n",
    "data = '{\"ContactDetails\":{\"name\": \"test name %s\"}, \"experience\":[{\"institute\":\"Some other school\"}]}'%userId\n",
    "print(data)\n",
    "response = requests.put('http://localhost:8081/api/v1/Teacher/%s'%idx, headers=headers, data=data)"
   ]
  },
  {
   "cell_type": "code",
   "execution_count": 571,
   "id": "8ae86741",
   "metadata": {},
   "outputs": [
    {
     "data": {
      "text/plain": [
       "(200,\n",
       " {'id': 'sunbird-rc.registry.update',\n",
       "  'ver': '1.0',\n",
       "  'ets': 1644170925208,\n",
       "  'params': {'resmsgid': '',\n",
       "   'msgid': 'f5b2bd58-ecfa-45ae-b001-e25e0b034759',\n",
       "   'err': '',\n",
       "   'status': 'SUCCESSFUL',\n",
       "   'errmsg': ''},\n",
       "  'responseCode': 'OK'})"
      ]
     },
     "execution_count": 571,
     "metadata": {},
     "output_type": "execute_result"
    }
   ],
   "source": [
    "response.status_code, response.json()"
   ]
  },
  {
   "cell_type": "code",
   "execution_count": 572,
   "id": "6bc19944",
   "metadata": {},
   "outputs": [
    {
     "name": "stdout",
     "output_type": "stream",
     "text": [
      "{'osUpdatedAt': '2022-02-06T18:08:48.460Z', 'ContactDetails': {'osid': '1-4d2f8f80-d505-440e-92f9-689a6988a011', 'osUpdatedAt': '2022-02-06T18:08:48.460Z', 'osCreatedAt': '2022-02-06T16:09:18.987Z', 'osUpdatedBy': 'osrc', 'osCreatedBy': '', 'mobile': '61532629118', 'name': 'test name 61532629118', 'email': '61532629118@example.com'}, 'osCreatedAt': '2022-02-06T16:09:18.987Z', 'osUpdatedBy': 'osrc', 'IdentityDetails': {'osid': '1-aa981655-301b-4f95-8207-508a0266dec2', 'osUpdatedAt': '2022-02-06T18:08:48.460Z', 'osCreatedAt': '2022-02-06T16:09:18.987Z', 'osUpdatedBy': 'osrc', 'osCreatedBy': '', 'type': 'id', 'value': '61532629118'}, 'personalDetails': {'osid': '1-117254f3-ef91-428e-a4cd-486ae6b198f3', 'osUpdatedAt': '2022-02-06T18:08:48.460Z', 'osCreatedAt': '2022-02-06T16:09:18.987Z', 'osUpdatedBy': 'osrc', 'dob': '2020-12-12', 'osCreatedBy': '', 'userName': '61532629118'}, 'osCreatedBy': '', 'experience': [{'osUpdatedAt': '2022-02-06T18:08:48.460Z', 'osUpdatedBy': 'osrc', 'institute': 'Some other school', 'osid': '1-ee2992de-5450-4398-b5eb-94d12a3f384e'}], 'osid': '1-f5115e92-9ceb-4898-a08a-44d6e9c76897', 'osOwner': ['2aeb770e-4e15-48c5-95b4-ae4a3aa37675']}\n"
     ]
    },
    {
     "data": {
      "text/plain": [
       "{'osUpdatedAt': '2022-02-06T18:08:48.460Z',\n",
       " 'ContactDetails': {'osid': '1-4d2f8f80-d505-440e-92f9-689a6988a011',\n",
       "  'osUpdatedAt': '2022-02-06T18:08:48.460Z',\n",
       "  'osCreatedAt': '2022-02-06T16:09:18.987Z',\n",
       "  'osUpdatedBy': 'osrc',\n",
       "  'osCreatedBy': '',\n",
       "  'mobile': '61532629118',\n",
       "  'name': 'test name 61532629118',\n",
       "  'email': '61532629118@example.com'},\n",
       " 'osCreatedAt': '2022-02-06T16:09:18.987Z',\n",
       " 'osUpdatedBy': 'osrc',\n",
       " 'IdentityDetails': {'osid': '1-aa981655-301b-4f95-8207-508a0266dec2',\n",
       "  'osUpdatedAt': '2022-02-06T18:08:48.460Z',\n",
       "  'osCreatedAt': '2022-02-06T16:09:18.987Z',\n",
       "  'osUpdatedBy': 'osrc',\n",
       "  'osCreatedBy': '',\n",
       "  'type': 'id',\n",
       "  'value': '61532629118'},\n",
       " 'personalDetails': {'osid': '1-117254f3-ef91-428e-a4cd-486ae6b198f3',\n",
       "  'osUpdatedAt': '2022-02-06T18:08:48.460Z',\n",
       "  'osCreatedAt': '2022-02-06T16:09:18.987Z',\n",
       "  'osUpdatedBy': 'osrc',\n",
       "  'dob': '2020-12-12',\n",
       "  'osCreatedBy': '',\n",
       "  'userName': '61532629118'},\n",
       " 'osCreatedBy': '',\n",
       " 'experience': [{'osUpdatedAt': '2022-02-06T18:08:48.460Z',\n",
       "   'osUpdatedBy': 'osrc',\n",
       "   'institute': 'Some other school',\n",
       "   'osid': '1-ee2992de-5450-4398-b5eb-94d12a3f384e'}],\n",
       " 'osid': '1-f5115e92-9ceb-4898-a08a-44d6e9c76897',\n",
       " 'osOwner': ['2aeb770e-4e15-48c5-95b4-ae4a3aa37675']}"
      ]
     },
     "execution_count": 572,
     "metadata": {},
     "output_type": "execute_result"
    }
   ],
   "source": [
    "headers = {\n",
    "    'content-type': 'application/json',\n",
    "    'Authorization': 'Bearer %s'%token, \n",
    "}\n",
    "\n",
    "response = requests.get('http://localhost:8081/api/v1/%s/%s'%(entity_name, idx), headers=headers)\n",
    "assert response.status_code == 200\n",
    "print(response.json())\n",
    "assert response.json()[\"ContactDetails\"][\"name\"] == \"test name %s\"%userId\n",
    "response.json()"
   ]
  },
  {
   "cell_type": "markdown",
   "id": "6eb1a18e",
   "metadata": {},
   "source": [
    "## invite a student"
   ]
  },
  {
   "cell_type": "code",
   "execution_count": 626,
   "id": "f85dc761",
   "metadata": {},
   "outputs": [],
   "source": [
    "headers = {\n",
    "    'content-type': 'application/json',\n",
    "}\n",
    "\n",
    "data = {\"identityDetails\":{\n",
    "        \"fullName\":\"Test %s\"%userId, \n",
    "        \"gender\":\"Male\"\n",
    "        },\n",
    "        \"educationDetails\":[{\n",
    "            \"institute\":\"Some other school\"\n",
    "        }\n",
    "        ]\n",
    "       }\n",
    "#{\"name\": \"Prashant Joshi\",\\n\\t\\t\"phoneNumber\": \"9876543210\",\\n\\t\\t\"email\": \"prashant@upps.in\",\\n\\t\\t\"school\": \"UP Public School\"\\n\\t}\n",
    "\n",
    "\n",
    "response = requests.post('http://localhost:8081/api/v1/Student/invite', headers=headers, json=data)\n"
   ]
  },
  {
   "cell_type": "code",
   "execution_count": 627,
   "id": "a486eb16",
   "metadata": {},
   "outputs": [
    {
     "data": {
      "text/plain": [
       "{'id': 'sunbird-rc.registry.invite',\n",
       " 'ver': '1.0',\n",
       " 'ets': 1644175094599,\n",
       " 'params': {'resmsgid': '',\n",
       "  'msgid': '0faa774a-1cb7-403b-905e-f07a483cc1af',\n",
       "  'err': '',\n",
       "  'status': 'SUCCESSFUL',\n",
       "  'errmsg': ''},\n",
       " 'responseCode': 'OK',\n",
       " 'result': {'Student': {'osid': '1-42190594-210d-4ebf-8904-5cb2e222aa74'}}}"
      ]
     },
     "execution_count": 627,
     "metadata": {},
     "output_type": "execute_result"
    }
   ],
   "source": [
    "response.json()\n",
    "\n"
   ]
  },
  {
   "cell_type": "code",
   "execution_count": 628,
   "id": "c634f6ae",
   "metadata": {},
   "outputs": [],
   "source": [
    "sid = response.json()[\"result\"][\"Student\"][\"osid\"]\n"
   ]
  },
  {
   "cell_type": "code",
   "execution_count": 629,
   "id": "24a56dc8",
   "metadata": {},
   "outputs": [
    {
     "name": "stdout",
     "output_type": "stream",
     "text": [
      "200\n"
     ]
    },
    {
     "data": {
      "text/plain": [
       "{'educationDetails': [{'institute': 'Some other school',\n",
       "   'osid': '1-d3248abc-385f-4e8e-8856-0c0c0bbfa2e2'}],\n",
       " 'osid': '1-42190594-210d-4ebf-8904-5cb2e222aa74',\n",
       " 'identityDetails': {'osid': '1-c81f449f-6b77-40ab-bc08-7cf9df5289e7',\n",
       "  'gender': 'Male',\n",
       "  'fullName': 'Test 61532629118'}}"
      ]
     },
     "execution_count": 629,
     "metadata": {},
     "output_type": "execute_result"
    }
   ],
   "source": [
    "headers = {\n",
    "    'content-type': 'application/json',\n",
    "    'Authorization': 'Bearer %s'%token, \n",
    "}\n",
    "\n",
    "response = requests.get('http://localhost:8081/api/v1/%s/%s'%(\"Student\", sid), headers=headers)\n",
    "print(response.status_code)\n",
    "response.json()\n"
   ]
  },
  {
   "cell_type": "code",
   "execution_count": null,
   "id": "63492c6c",
   "metadata": {},
   "outputs": [],
   "source": []
  },
  {
   "cell_type": "markdown",
   "id": "f84e8451",
   "metadata": {},
   "source": [
    "## claim"
   ]
  },
  {
   "cell_type": "code",
   "execution_count": 630,
   "id": "141a9dc9",
   "metadata": {},
   "outputs": [
    {
     "name": "stdout",
     "output_type": "stream",
     "text": [
      "200\n"
     ]
    },
    {
     "data": {
      "text/plain": [
       "{'id': 'sunbird-rc.registry.send',\n",
       " 'ver': '1.0',\n",
       " 'ets': 1644175100079,\n",
       " 'params': {'resmsgid': '',\n",
       "  'msgid': '6f1b856a-1b69-47bd-8211-ad7052a03c81',\n",
       "  'err': '',\n",
       "  'status': 'SUCCESSFUL',\n",
       "  'errmsg': ''},\n",
       " 'responseCode': 'OK',\n",
       " 'result': {'attestationOSID': '1-f5b466f3-c5eb-4eea-bc5f-c7e5ae8f60ab'}}"
      ]
     },
     "execution_count": 630,
     "metadata": {},
     "output_type": "execute_result"
    }
   ],
   "source": [
    "\n",
    "headers = {\n",
    "    'content-type': 'application/json',\n",
    "    'authorization': 'bearer %s'%token,\n",
    "}\n",
    "\n",
    "params = (\n",
    "    ('send', 'true'),\n",
    ")\n",
    "\n",
    "data = {\n",
    "    \"entityName\":\"Student\",\n",
    "    \"entityId\":\"%s\"%sid,\n",
    "    \"name\":\"schoolId\",\n",
    "    \"additionalInput\":{\"idx\": \"%s\"%sid}\n",
    "}\n",
    "response = requests.put('http://localhost:8081/api/v1/send', headers=headers, params=params, json=data)\n",
    "print(response.status_code)\n",
    "response.json()\n",
    "\n"
   ]
  },
  {
   "cell_type": "code",
   "execution_count": 632,
   "id": "7647f0e1",
   "metadata": {},
   "outputs": [
    {
     "name": "stdout",
     "output_type": "stream",
     "text": [
      "200\n"
     ]
    },
    {
     "data": {
      "text/plain": [
       "{'educationDetails': [{'institute': 'Some other school',\n",
       "   'osid': '1-d3248abc-385f-4e8e-8856-0c0c0bbfa2e2'}],\n",
       " 'osid': '1-42190594-210d-4ebf-8904-5cb2e222aa74',\n",
       " 'identityDetails': {'osid': '1-c81f449f-6b77-40ab-bc08-7cf9df5289e7',\n",
       "  'gender': 'Male',\n",
       "  'fullName': 'Test 61532629118'},\n",
       " 'schoolId': [{'additionalInput': {'osid': '1-4ddd0126-289d-4bd2-8b68-82e271650dac',\n",
       "    'idx': '1-42190594-210d-4ebf-8904-5cb2e222aa74'},\n",
       "   'entityName': 'Student',\n",
       "   '_osState': 'DRAFT',\n",
       "   'name': 'schoolId',\n",
       "   'entityId': '1-42190594-210d-4ebf-8904-5cb2e222aa74',\n",
       "   'osid': '1-f5b466f3-c5eb-4eea-bc5f-c7e5ae8f60ab',\n",
       "   'propertyData': '{\"name\":\"Test 61532629118\",\"institute\":\"Some other school\"}'}]}"
      ]
     },
     "execution_count": 632,
     "metadata": {},
     "output_type": "execute_result"
    }
   ],
   "source": [
    "headers = {\n",
    "    'content-type': 'application/json',\n",
    "    'Authorization': 'Bearer %s'%token, \n",
    "}\n",
    "\n",
    "response = requests.get('http://localhost:8081/api/v1/%s/%s'%(\"Student\", sid), headers=headers)\n",
    "print(response.status_code)\n",
    "response.json()"
   ]
  },
  {
   "cell_type": "markdown",
   "id": "4ca1ce2e",
   "metadata": {},
   "source": [
    "## As a Teacher get claims"
   ]
  },
  {
   "cell_type": "code",
   "execution_count": 636,
   "id": "9e091faf",
   "metadata": {},
   "outputs": [
    {
     "name": "stdout",
     "output_type": "stream",
     "text": [
      "200 [{'id': '5249adac-4aa3-48a0-af65-3dc4ef475cf9', 'entity': 'Student', 'entityId': '1-5f19dcf9-42c6-4579-b9ae-0f28e681e610', 'propertyURI': '', 'createdAt': '2022-02-06T19:14:46.762+00:00', 'attestedOn': '2022-02-06T19:16:08.143+00:00', 'status': 'CLOSED', 'conditions': \"(ATTESTOR#$.experience.[*].institute#.contains('Some other school'))\", 'attestorEntity': 'Teacher', 'requestorName': None, 'closed': True}, {'id': 'bf135815-6670-41ef-b10f-826a18b25df5', 'entity': 'Student', 'entityId': '1-42190594-210d-4ebf-8904-5cb2e222aa74', 'propertyURI': '', 'createdAt': '2022-02-06T19:18:20.597+00:00', 'attestedOn': None, 'status': 'OPEN', 'conditions': \"(ATTESTOR#$.experience.[*].institute#.contains('Some other school'))\", 'attestorEntity': 'Teacher', 'requestorName': None, 'closed': False}]\n"
     ]
    },
    {
     "data": {
      "text/plain": [
       "[{'id': '5249adac-4aa3-48a0-af65-3dc4ef475cf9',\n",
       "  'entity': 'Student',\n",
       "  'entityId': '1-5f19dcf9-42c6-4579-b9ae-0f28e681e610',\n",
       "  'propertyURI': '',\n",
       "  'createdAt': '2022-02-06T19:14:46.762+00:00',\n",
       "  'attestedOn': '2022-02-06T19:16:08.143+00:00',\n",
       "  'status': 'CLOSED',\n",
       "  'conditions': \"(ATTESTOR#$.experience.[*].institute#.contains('Some other school'))\",\n",
       "  'attestorEntity': 'Teacher',\n",
       "  'requestorName': None,\n",
       "  'closed': True},\n",
       " {'id': 'bf135815-6670-41ef-b10f-826a18b25df5',\n",
       "  'entity': 'Student',\n",
       "  'entityId': '1-42190594-210d-4ebf-8904-5cb2e222aa74',\n",
       "  'propertyURI': '',\n",
       "  'createdAt': '2022-02-06T19:18:20.597+00:00',\n",
       "  'attestedOn': None,\n",
       "  'status': 'OPEN',\n",
       "  'conditions': \"(ATTESTOR#$.experience.[*].institute#.contains('Some other school'))\",\n",
       "  'attestorEntity': 'Teacher',\n",
       "  'requestorName': None,\n",
       "  'closed': False}]"
      ]
     },
     "execution_count": 636,
     "metadata": {},
     "output_type": "execute_result"
    }
   ],
   "source": [
    "headers = {\n",
    "    'content-type': 'application/json',\n",
    "    'Authorization': 'Bearer %s'%token, \n",
    "}\n",
    "\n",
    "response = requests.get('http://localhost:8081/api/v1/Teacher/claims', headers=headers)\n",
    "print(response.status_code, response.json())\n",
    "claim_id = response.json()[-1][\"id\"]\n",
    "response.json()"
   ]
  },
  {
   "cell_type": "markdown",
   "id": "e243966b",
   "metadata": {},
   "source": [
    "## approve the claim"
   ]
  },
  {
   "cell_type": "code",
   "execution_count": 637,
   "id": "336de33a",
   "metadata": {},
   "outputs": [
    {
     "name": "stdout",
     "output_type": "stream",
     "text": [
      "200\n"
     ]
    },
    {
     "data": {
      "text/plain": [
       "{'resmsgid': '',\n",
       " 'msgid': 'ec98c5a7-b012-4969-b95e-2a87345977a3',\n",
       " 'err': '',\n",
       " 'status': 'SUCCESSFUL',\n",
       " 'errmsg': ''}"
      ]
     },
     "execution_count": 637,
     "metadata": {},
     "output_type": "execute_result"
    }
   ],
   "source": [
    "headers = {\n",
    "    'content-type': 'application/json',\n",
    "    'Authorization': 'Bearer %s'%token, \n",
    "}\n",
    "data = {\n",
    "    \"action\":\"GRANT_CLAIM\",\n",
    "}\n",
    "response = requests.post('http://localhost:8081/api/v1/Teacher/claims/%s/attest'%claim_id, headers=headers, json=data)\n",
    "print(response.status_code)\n",
    "response.json()"
   ]
  },
  {
   "cell_type": "code",
   "execution_count": 640,
   "id": "a1247108",
   "metadata": {},
   "outputs": [
    {
     "name": "stdout",
     "output_type": "stream",
     "text": [
      "200\n"
     ]
    },
    {
     "data": {
      "text/plain": [
       "[{'id': '5249adac-4aa3-48a0-af65-3dc4ef475cf9',\n",
       "  'entity': 'Student',\n",
       "  'entityId': '1-5f19dcf9-42c6-4579-b9ae-0f28e681e610',\n",
       "  'propertyURI': '',\n",
       "  'createdAt': '2022-02-06T19:14:46.762+00:00',\n",
       "  'attestedOn': '2022-02-06T19:16:08.143+00:00',\n",
       "  'status': 'CLOSED',\n",
       "  'conditions': \"(ATTESTOR#$.experience.[*].institute#.contains('Some other school'))\",\n",
       "  'attestorEntity': 'Teacher',\n",
       "  'requestorName': None,\n",
       "  'closed': True},\n",
       " {'id': 'bf135815-6670-41ef-b10f-826a18b25df5',\n",
       "  'entity': 'Student',\n",
       "  'entityId': '1-42190594-210d-4ebf-8904-5cb2e222aa74',\n",
       "  'propertyURI': '',\n",
       "  'createdAt': '2022-02-06T19:18:20.597+00:00',\n",
       "  'attestedOn': '2022-02-06T19:19:58.840+00:00',\n",
       "  'status': 'CLOSED',\n",
       "  'conditions': \"(ATTESTOR#$.experience.[*].institute#.contains('Some other school'))\",\n",
       "  'attestorEntity': 'Teacher',\n",
       "  'requestorName': None,\n",
       "  'closed': True}]"
      ]
     },
     "execution_count": 640,
     "metadata": {},
     "output_type": "execute_result"
    }
   ],
   "source": [
    "headers = {\n",
    "    'content-type': 'application/json',\n",
    "    'Authorization': 'Bearer %s'%token, \n",
    "}\n",
    "\n",
    "response = requests.get('http://localhost:8081/api/v1/Teacher/claims', headers=headers)\n",
    "print(response.status_code)\n",
    "claim_id = response.json()[0][\"id\"]\n",
    "response.json()"
   ]
  }
 ],
 "metadata": {
  "kernelspec": {
   "display_name": "Python 3",
   "language": "python",
   "name": "python3"
  },
  "language_info": {
   "codemirror_mode": {
    "name": "ipython",
    "version": 3
   },
   "file_extension": ".py",
   "mimetype": "text/x-python",
   "name": "python",
   "nbconvert_exporter": "python",
   "pygments_lexer": "ipython3",
   "version": "3.9.9"
  }
 },
 "nbformat": 4,
 "nbformat_minor": 5
}
